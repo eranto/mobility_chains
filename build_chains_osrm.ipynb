{
 "cells": [
  {
   "cell_type": "code",
   "execution_count": null,
   "metadata": {
    "collapsed": true
   },
   "outputs": [],
   "source": [
    "import osrm\n",
    "import numpy as np"
   ]
  },
  {
   "cell_type": "code",
   "execution_count": null,
   "metadata": {
    "collapsed": true
   },
   "outputs": [],
   "source": [
    "class gas_station:\n",
    "    def __init__(self, id, lat, long):\n",
    "        self.id = id\n",
    "        self.lat = lat\n",
    "        self.long = long\n",
    "\n",
    "    def getId(self):\n",
    "        return self._id\n",
    "\n",
    "    def setId (self,id):\n",
    "        self._id = id\n",
    "\n",
    "    def getLat(self):\n",
    "        return self._lat\n",
    "\n",
    "    def setLat (self,lat):\n",
    "        self._lat = lat\n",
    "\n",
    "    def getLong(self):\n",
    "        return self._long\n",
    "\n",
    "    def setLong (self,long):\n",
    "        self._long = long\n",
    "\n",
    "    id = property(getId, setId)\n",
    "    lat = property(getLat, setLat)\n",
    "    long = property(getLong, setLong)\n"
   ]
  },
  {
   "cell_type": "code",
   "execution_count": null,
   "metadata": {
    "collapsed": true
   },
   "outputs": [],
   "source": [
    "# read gas stations from file\n",
    "import csv\n",
    "try:\n",
    "    source = '/Users/ayeletarditi/Google Drive/Thesis/Gas stations/gas_stations_reduced_1.5km.txt'\n",
    "    f = open(source, 'rt')\n",
    "    reader = csv.reader(f, delimiter='\\t')\n",
    "    gas_stations = []\n",
    "    for el in reader:\n",
    "        g = gas_station(int(el[0]),float(el[1]),float(el[2]))\n",
    "        gas_stations.append(g)\n",
    "finally:\n",
    "    f.close()\n",
    "    #print(len(gas_stations))\n",
    "\n",
    "\n",
    "    #output_file = open('/Users/ayeletarditi/Documents/Thesis/osrm_outputs/output.txt', 'w')\n",
    "gas_stations_cor = \"\"\n",
    "dest_stations = []\n",
    "for index2 in range(len(gas_stations)):\n",
    "    dest_stations.append(gas_stations[index2].id)\n",
    "    gas_stations_cor += str(gas_stations[index2].long) +\",\"+ str(gas_stations[index2].lat) + \";\"\n",
    "'remove the last ;'\n",
    "gas_stations_cor = gas_stations_cor[:-1]\n",
    "    #output_file.write(dest)\n",
    "\n"
   ]
  },
  {
   "cell_type": "code",
   "execution_count": null,
   "metadata": {
    "collapsed": true
   },
   "outputs": [],
   "source": [
    "# generate duration matrix between gas stations\n",
    "\n",
    "import requests\n",
    "try:\n",
    "    output_file = open('/Users/ayeletarditi/Documents/Thesis/osrm_outputs/gas_stations_durations.txt', 'w')\n",
    "    for index in range(len(gas_stations)):\n",
    "            url_osrm = 'http://localhost:5000/table/v1/driving/' + gas_stations_cor + '?sources=' + str(index)\n",
    "            osrm = requests.get(url_osrm)\n",
    "            data = osrm.json()\n",
    "            if 'message' not in data:\n",
    "                durations  = data['durations']\n",
    "                print(len(durations[0]))\n",
    "                for x in range(len(durations[0])):\n",
    "                    output_file.write(str(gas_stations[index].id) + '\\t' + str(gas_stations[x].id) + '\\t' + str(durations[0][x]) + '\\n')\n",
    "            else:\n",
    "                print(str(data['message']))\n",
    "finally:\n",
    "    output_file.close()"
   ]
  },
  {
   "cell_type": "code",
   "execution_count": null,
   "metadata": {
    "collapsed": true
   },
   "outputs": [],
   "source": [
    "import pandas as pd\n",
    "\n",
    "\n",
    "from decimal import *\n",
    "import csv\n",
    "getcontext().prec = 4\n",
    "getcontext().rounding = ROUND_DOWN"
   ]
  },
  {
   "cell_type": "code",
   "execution_count": null,
   "metadata": {
    "collapsed": true
   },
   "outputs": [],
   "source": []
  },
  {
   "cell_type": "code",
   "execution_count": null,
   "metadata": {},
   "outputs": [],
   "source": [
    "df = pd.read_csv('/Users/ayeletarditi/Google Drive/Thesis/code/stop_points.txt', delimiter = '\\t', index_col='imsi')\n",
    "df = df[~((df['start_lat']==df['end_lat']) & (df['start_long']==df['end_long']))]\n",
    "df['start_lat_2_dec'] = df['start_lat'].apply(lambda x : Decimal(x)*1)\n",
    "df['start_long_2_dec'] = df['start_long'].apply(lambda x : Decimal(x)*1)\n",
    "df['end_lat_2_dec'] = df['end_lat'].apply(lambda x : Decimal(x)*1)\n",
    "df['end_long_2_dec'] = df['end_long'].apply(lambda x : Decimal(x)*1)"
   ]
  },
  {
   "cell_type": "code",
   "execution_count": null,
   "metadata": {
    "collapsed": true
   },
   "outputs": [],
   "source": [
    "orig_df = df[['start_long_2_dec','start_lat_2_dec']].drop_duplicates()\n",
    "dest_df = df[['end_long_2_dec','end_lat_2_dec']].drop_duplicates()"
   ]
  },
  {
   "cell_type": "code",
   "execution_count": null,
   "metadata": {
    "collapsed": true
   },
   "outputs": [],
   "source": [
    "import requests\n",
    "def clac_durations_orig_gas_stations (gas_stations_cor, orig):\n",
    "    try:\n",
    "        output_file = open('/Users/ayeletarditi/Documents/Thesis/osrm_outputs/orig_gas_stations_durations.txt', 'a')\n",
    "        cor = orig + ';' + gas_stations_cor\n",
    "        #print(cor)\n",
    "        url_osrm = 'http://localhost:5000/table/v1/driving/' + cor + '?sources=0'\n",
    "        osrm = requests.get(url_osrm)\n",
    "        data = osrm.json()\n",
    "        if 'message' not in data:\n",
    "            durations  = data['durations']\n",
    "            #print(durations)\n",
    "            for x in range(len(durations[0])):\n",
    "                if x > 0:\n",
    "                    output_file.write( orig + '\\t' + str(gas_stations[x-1].id) + '\\t' + str(durations[0][x]) + '\\n')\n",
    "        else:\n",
    "            print(str(data['message']))\n",
    "    finally:\n",
    "        output_file.close()"
   ]
  },
  {
   "cell_type": "code",
   "execution_count": null,
   "metadata": {
    "collapsed": true
   },
   "outputs": [],
   "source": [
    "import requests\n",
    "def clac_durations_gas_stations_dest (gas_stations_cor, dest):\n",
    "    try:\n",
    "        output_file = open('/Users/ayeletarditi/Documents/Thesis/osrm_outputs/gas_stations_dest_durations.txt', 'a')\n",
    "        cor = dest + ';' + gas_stations_cor\n",
    "        #print(cor)\n",
    "        url_osrm = 'http://localhost:5000/table/v1/driving/' + cor + '?destinations=0'\n",
    "        osrm = requests.get(url_osrm)\n",
    "        data = osrm.json()\n",
    "        if 'message' not in data:\n",
    "            durations  = data['durations']\n",
    "            #print(durations)\n",
    "            for x in range(len(durations) ):\n",
    "                if x > 0:\n",
    "                    output_file.write( str(gas_stations[x-1].id)+'\\t'+  dest + '\\t' + str(durations[x][0]) + '\\n')\n",
    "        else:\n",
    "            print(str(data['message']))\n",
    "    finally:\n",
    "        output_file.close()\n",
    "        #return durations"
   ]
  },
  {
   "cell_type": "code",
   "execution_count": null,
   "metadata": {
    "collapsed": true
   },
   "outputs": [],
   "source": [
    "orig_df.apply(lambda x: clac_durations_orig_gas_stations(gas_stations_cor, '%.2f' % x.start_long_2_dec + ',' + '%.2f' % x.start_lat_2_dec),axis=1)\n",
    "dest_df.apply(lambda x: clac_durations_gas_stations_dest(gas_stations_cor, '%.2f' % x.end_long_2_dec + ',' + '%.2f' % x.end_lat_2_dec),axis=1)"
   ]
  },
  {
   "cell_type": "code",
   "execution_count": null,
   "metadata": {
    "collapsed": true
   },
   "outputs": [],
   "source": [
    "orig_dest_df = df[['start_lat_2_dec','start_long_2_dec','end_lat_2_dec','end_long_2_dec']].drop_duplicates()"
   ]
  },
  {
   "cell_type": "code",
   "execution_count": null,
   "metadata": {
    "collapsed": true
   },
   "outputs": [],
   "source": [
    "orig_dest_df = orig_dest_df[~((orig_dest_df['start_lat_2_dec']==orig_dest_df['end_lat_2_dec']) & (orig_dest_df['start_long_2_dec']==orig_dest_df['end_long_2_dec']))]"
   ]
  },
  {
   "cell_type": "code",
   "execution_count": null,
   "metadata": {
    "collapsed": true
   },
   "outputs": [],
   "source": [
    "orig_dest_df.shape"
   ]
  },
  {
   "cell_type": "code",
   "execution_count": null,
   "metadata": {
    "collapsed": true
   },
   "outputs": [],
   "source": [
    "import requests\n",
    "def clac_durations_orig_dest (orig, dest):\n",
    "    try:\n",
    "        output_file = open('/Users/ayeletarditi/Documents/Thesis/osrm_outputs/origin_dest_durations.txt', 'a')\n",
    "        cor = orig + ';' + dest\n",
    "        #print(cor)\n",
    "        url_osrm = 'http://localhost:5000/table/v1/driving/' + cor + '?sources=0'\n",
    "        osrm = requests.get(url_osrm)\n",
    "        data = osrm.json()\n",
    "        if 'message' not in data:\n",
    "            durations  = data['durations']\n",
    "            output_file.write( orig +'\\t'+ dest + '\\t' + str(durations[0][1]) + '\\n')\n",
    "        else:\n",
    "            print(str(data['message']))\n",
    "    finally:\n",
    "        output_file.close()\n",
    "        #return durations\n",
    "\n"
   ]
  },
  {
   "cell_type": "code",
   "execution_count": null,
   "metadata": {
    "collapsed": true
   },
   "outputs": [],
   "source": [
    "orig_dest_df.apply(lambda x: clac_durations_orig_dest( '%.2f' % x.start_long_2_dec + ',' + \n",
    "                                                       '%.2f' % x.start_lat_2_dec, '%.2f' % x.end_long_2_dec + ',' +  '%.2f' % x.end_lat_2_dec),axis=1)"
   ]
  },
  {
   "cell_type": "code",
   "execution_count": null,
   "metadata": {
    "collapsed": true
   },
   "outputs": [],
   "source": [
    "orig_dest_durations = pd.read_csv('/Users/ayeletarditi/Documents/Thesis/osrm_outputs/origin_dest_durations.txt',\n",
    "                                  sep = '\\t', header= None, names = ['orig','dest','duration'])\n",
    "\n",
    "orig_dest_durations.duration = pd.to_numeric(orig_dest_durations.duration, errors='coerce')\n",
    "orig_dest_durations = orig_dest_durations[orig_dest_durations.duration > 0]"
   ]
  },
  {
   "cell_type": "code",
   "execution_count": null,
   "metadata": {
    "collapsed": true
   },
   "outputs": [],
   "source": [
    "orig_gas_stations_durations = pd.read_csv('/Users/ayeletarditi/Documents/Thesis/osrm_outputs/orig_gas_stations_durations.txt', sep = '\\t', header= None, names = ['orig', 'gas_station','duration'],\n",
    "                                          dtype = {'orig':str,'gas_station':int, 'duration':float})\n",
    "\n",
    "dest_gas_stations_durations = pd.read_csv('/Users/ayeletarditi/Documents/Thesis/osrm_outputs/gas_stations_dest_durations.txt', sep = '\\t', header = None, names=['gas_station','dest','duration'],\n",
    "                                          dtype={'dest': str, 'gas_station': int, 'duration': float})\n",
    "\n",
    "orig_gas_stations_durations.index = orig_gas_stations_durations.apply(lambda x:\n",
    "                                                                      x.orig.strip() + \"$\" + str(x.gas_station).strip(),axis = 1)\n",
    "\n",
    "orig_gas_stations_durations_dict = orig_gas_stations_durations[['duration']].T.to_dict('list')   \n",
    "  \n",
    "dest_gas_stations_durations.index = dest_gas_stations_durations.apply(lambda x:\n",
    "                                                                      x.dest.strip() + \"$\" + str(x.gas_station).strip(),axis = 1)\n",
    "dest_gas_stations_durations_dict = dest_gas_stations_durations[['duration']].T.to_dict('list') \n"
   ]
  },
  {
   "cell_type": "code",
   "execution_count": null,
   "metadata": {
    "collapsed": true
   },
   "outputs": [],
   "source": [
    "gas_stations_durations_matrix = pd.read_csv('/Users/ayeletarditi/Documents/Thesis/osrm_outputs/gas_stations_durations.txt', \n",
    "                        sep = '\\t', header = None, names = ['source', 'destination', 'duration'], dtype = {'source':int, 'destination': str, 'duration':float})\n",
    "#gas_stations_durations_matrix.source = pd.to_numeric(gas_stations_durations_matrix.source)\n",
    "#gas_stations_durations_matrix.destination = pd.to_numeric(gas_stations_durations_matrix.destination)\n",
    "\n",
    "gas_stations_durations_matrix.index = gas_stations_durations_matrix.apply(lambda x: str(x.source).strip() + \"$\" + str(x.destination).strip(),axis = 1)\n",
    "gas_stations_durations_matrix_dict = gas_stations_durations_matrix[['duration']].T.to_dict('list')       "
   ]
  },
  {
   "cell_type": "code",
   "execution_count": null,
   "metadata": {
    "collapsed": true
   },
   "outputs": [],
   "source": [
    "# import itertools\n",
    "# import operator\n",
    "# def deduce_path (orig, dest, des_orig_d):\n",
    "#     output_file = open('/Users/ayeletarditi/Documents/Thesis/osrm_outputs/chains_paths.txt', 'a')\n",
    "#     candidates = {}\n",
    "#     #print(orig, dest)\n",
    "#     for sp in gas_stations:\n",
    "#         orig_sp_d = orig_gas_stations_durations_dict[orig + '$' + str(sp.id)][0]\n",
    "#         sp_dest_d = dest_gas_stations_durations_dict[dest + '$' + str(sp.id)][0]\n",
    "#         #des_orig_d = orig_dest_df[(orig_dest_df.orig == orig) & (orig_dest_df.dest == dest)]['duration']\n",
    "#         if (float(orig_sp_d) + float(sp_dest_d ) - des_orig_d) <= des_orig_d*0.01:\n",
    "#             candidates[sp.id] = float(orig_sp_d)\n",
    "#     sorted_candidates = sorted(candidates.items(), key=operator.itemgetter(1))\n",
    "#     index = 0\n",
    "#     longest_combs = (None, None)\n",
    "#     print(orig, dest)\n",
    "#     print(len(sorted_candidates))\n",
    "#     for i in range(1, len(sorted_candidates)+1):\n",
    "#         combs = []\n",
    "#         #i-length tuples, in sorted order, no repeated elements\n",
    "#         combs.extend(itertools.combinations(sorted_candidates, i))\n",
    "#         for comb in combs:\n",
    "#             inner_index = 0\n",
    "#             duration = 0\n",
    "#             for can in comb:\n",
    "#                 if inner_index == 0:\n",
    "#                     duration += can[1]\n",
    "#                 if inner_index == len(comb) - 1:\n",
    "#                     duration += dest_gas_stations_durations_dict[dest + '$' + str(can[0])][0]\n",
    "#                 if inner_index > 0 and inner_index < len(comb):\n",
    "#                     duration += gas_stations_durations_matrix_dict[str(int(comb[inner_index - 1][0]))\n",
    "#                                                            + '$' + str(int(can[0]))][0]\n",
    "#                 inner_index += 1\n",
    "#             if (duration - des_orig_d <= des_orig_d*0.01):\n",
    "#                 #print(len(comb))\n",
    "#                 if not all(longest_combs):\n",
    "#                     longest_combs = (comb,duration)\n",
    "#                 else:\n",
    "#                     if len(comb) > len(longest_combs[0]):\n",
    "#                         longest_combs = (comb,duration)\n",
    "#                     else:\n",
    "#                         if len(comb) == len(longest_combs[0]) and duration < longest_combs[1]:\n",
    "#                             longest_combs = (comb,duration)\n",
    "#         print(len(longest_combs[0]) , i)\n",
    "#         if len(longest_combs[0]) < i:\n",
    "#             break\n",
    "#     if all(longest_combs):\n",
    "#         orig_lat_long = orig.split(\",\")\n",
    "#         dest_lat_long = dest.split(\",\")\n",
    "#         output_file.write(orig_lat_long[1].strip() + \",\" + orig_lat_long[0].strip()+ '\\t' +\n",
    "#                           dest_lat_long[1].strip() + \",\" + dest_lat_long[0].strip() + '\\t' )\n",
    "#         for sp in longest_combs[0]:\n",
    "#             output_file.write(str(sp[0]) + ',')\n",
    "#         output_file.write('\\t' + str((longest_combs[1] - des_orig_d)/60) + \"\\n\")"
   ]
  },
  {
   "cell_type": "code",
   "execution_count": null,
   "metadata": {
    "collapsed": true
   },
   "outputs": [],
   "source": []
  },
  {
   "cell_type": "code",
   "execution_count": null,
   "metadata": {
    "collapsed": true,
    "scrolled": false
   },
   "outputs": [],
   "source": [
    "#orig_dest_durations.apply(lambda x: deduce_path(x.orig, x.dest, x.duration), axis = 1)"
   ]
  },
  {
   "cell_type": "code",
   "execution_count": null,
   "metadata": {
    "collapsed": true
   },
   "outputs": [],
   "source": [
    "# df['start_date'] = pd.to_datetime(df['start_date'])"
   ]
  },
  {
   "cell_type": "code",
   "execution_count": null,
   "metadata": {
    "collapsed": true
   },
   "outputs": [],
   "source": [
    "#df['date'] = df['start_date'].apply(lambda x: x.date())"
   ]
  },
  {
   "cell_type": "code",
   "execution_count": null,
   "metadata": {
    "collapsed": true
   },
   "outputs": [],
   "source": [
    "#df['day'] = df['start_date'].apply(lambda x: x.date().day)"
   ]
  },
  {
   "cell_type": "code",
   "execution_count": null,
   "metadata": {
    "collapsed": true
   },
   "outputs": [],
   "source": [
    "df[~((df.start_lat_2_dec == df.end_lat_2_dec) & (df.start_long_2_dec == df.end_long_2_dec))].shape"
   ]
  },
  {
   "cell_type": "code",
   "execution_count": null,
   "metadata": {
    "collapsed": true
   },
   "outputs": [],
   "source": [
    "# import pandas as pd\n",
    "# df = pd.read_csv('/Users/ayeletarditi/Documents/Thesis/osrm_outputs/Post Analysis outputs/df.txt', sep = '\\t')"
   ]
  },
  {
   "cell_type": "code",
   "execution_count": null,
   "metadata": {},
   "outputs": [],
   "source": [
    "# df[(df.start_lat_2_dec == 31.88) & (df.end_lat_2_dec == 31.88)]"
   ]
  },
  {
   "cell_type": "code",
   "execution_count": null,
   "metadata": {
    "collapsed": true
   },
   "outputs": [],
   "source": [
    "# df['day'] = pd.DatetimeIndex(df['start_date']).day"
   ]
  },
  {
   "cell_type": "code",
   "execution_count": null,
   "metadata": {
    "collapsed": true
   },
   "outputs": [],
   "source": [
    "# df['hour'] = pd.DatetimeIndex(df['start_date']).hour"
   ]
  },
  {
   "cell_type": "code",
   "execution_count": null,
   "metadata": {
    "collapsed": true
   },
   "outputs": [],
   "source": [
    "#df[(df.day == 1) ]"
   ]
  },
  {
   "cell_type": "code",
   "execution_count": null,
   "metadata": {
    "collapsed": true
   },
   "outputs": [],
   "source": [
    "#df['hour'] = df.start_date.apply(lambda x : x.hour)"
   ]
  },
  {
   "cell_type": "code",
   "execution_count": null,
   "metadata": {
    "collapsed": true
   },
   "outputs": [],
   "source": [
    "# df_cnt = df.groupby(by=['start_lat_2_dec','start_long_2_dec','end_lat_2_dec','end_long_2_dec','day','hour']).count()"
   ]
  },
  {
   "cell_type": "code",
   "execution_count": null,
   "metadata": {
    "collapsed": true
   },
   "outputs": [],
   "source": [
    "# df_cnt.reset_index(inplace=True)"
   ]
  },
  {
   "cell_type": "code",
   "execution_count": null,
   "metadata": {
    "collapsed": true
   },
   "outputs": [],
   "source": [
    "# df_cnt = df_cnt[~((df_cnt.start_lat_2_dec == df_cnt.end_lat_2_dec)\n",
    "#                & (df_cnt.end_long_2_dec == df_cnt.end_long_2_dec))]"
   ]
  },
  {
   "cell_type": "code",
   "execution_count": null,
   "metadata": {
    "collapsed": true
   },
   "outputs": [],
   "source": [
    "#df_cnt['lamda_old'] = (df_cnt.day - 1)*23 + df_cnt.hour\n",
    "# df_cnt['lamda'] = (df_cnt.day - 1)*24 + df_cnt.hour\n",
    "#df_cnt.apply(lambda x : (x.day - 1)*23 + x.hour, axis = 1)"
   ]
  },
  {
   "cell_type": "code",
   "execution_count": null,
   "metadata": {
    "collapsed": true
   },
   "outputs": [],
   "source": [
    "# df_cnt[['day','hour']].drop_duplicates().to_csv('lambdas.csv', index = False)"
   ]
  },
  {
   "cell_type": "code",
   "execution_count": null,
   "metadata": {
    "collapsed": true
   },
   "outputs": [],
   "source": [
    "# res_test = pd.read_csv('chains_res_1_perc.csv')"
   ]
  },
  {
   "cell_type": "code",
   "execution_count": null,
   "metadata": {},
   "outputs": [],
   "source": [
    "# res_test.head()"
   ]
  },
  {
   "cell_type": "code",
   "execution_count": null,
   "metadata": {
    "collapsed": true
   },
   "outputs": [],
   "source": [
    "# chains = pd.read_csv(\"/Users/ayeletarditi/Documents/Thesis/osrm_outputs/chains_paths_6_perc.txt\", \n",
    "#                  sep = '\\t', header= None, names = ['orig', 'dest', 'stations','time'])"
   ]
  },
  {
   "cell_type": "code",
   "execution_count": null,
   "metadata": {
    "collapsed": true
   },
   "outputs": [],
   "source": [
    "# chains['num_gas_stations'] = chains['stations'].apply(lambda x : len(x.split(',')) - 1)"
   ]
  },
  {
   "cell_type": "code",
   "execution_count": null,
   "metadata": {
    "collapsed": true
   },
   "outputs": [],
   "source": [
    "# import numpy as np\n",
    "# df_pivot = df_cnt.pivot_table(values='start_date', index=['start_lat_2_dec','start_long_2_dec','end_lat_2_dec','end_long_2_dec'],\n",
    "#     columns = 'lamda',aggfunc = np.sum)"
   ]
  },
  {
   "cell_type": "code",
   "execution_count": null,
   "metadata": {
    "collapsed": true
   },
   "outputs": [],
   "source": [
    "# df_pivot.reset_index(inplace=True)"
   ]
  },
  {
   "cell_type": "code",
   "execution_count": null,
   "metadata": {
    "collapsed": true
   },
   "outputs": [],
   "source": [
    "# df_pivot.start_lat_2_dec = np.round(df_pivot.start_lat_2_dec,2)\n",
    "# df_pivot.start_long_2_dec = np.round(df_pivot.start_long_2_dec,2)\n",
    "# df_pivot.end_lat_2_dec = np.round(df_pivot.end_lat_2_dec,2)\n",
    "# df_pivot.end_long_2_dec = np.round(df_pivot.end_long_2_dec,2)"
   ]
  },
  {
   "cell_type": "code",
   "execution_count": null,
   "metadata": {},
   "outputs": [],
   "source": [
    "# df_pivot.head()"
   ]
  },
  {
   "cell_type": "code",
   "execution_count": null,
   "metadata": {
    "collapsed": true
   },
   "outputs": [],
   "source": [
    "# df_pivot['start_lat_2_dec_str'] = pd.Series([\"{0:.2f}\".format(val ) for val in df_pivot.start_lat_2_dec])\n",
    "# df_pivot['start_long_2_dec_str'] = pd.Series([\"{0:.2f}\".format(val ) for val in df_pivot.start_long_2_dec])\n",
    "\n",
    "# df_pivot['end_lat_2_dec_str'] = pd.Series([\"{0:.2f}\".format(val ) for val in df_pivot.end_lat_2_dec])\n",
    "# df_pivot['end_long_2_dec_str'] = pd.Series([\"{0:.2f}\".format(val ) for val in df_pivot.end_long_2_dec])"
   ]
  },
  {
   "cell_type": "code",
   "execution_count": null,
   "metadata": {
    "collapsed": true
   },
   "outputs": [],
   "source": [
    "\n",
    "df_pivot['orig'] = df_pivot.start_lat_2_dec_str.str.cat(df_pivot.start_long_2_dec_str, sep=',')\n",
    "\n",
    "#df_pivot.apply(lambda x: str(x.start_lat_2_dec) + ',' + str(x.start_long_2_dec), axis=1)\n",
    "df_pivot['dest'] = df_pivot.end_lat_2_dec_str.str.cat(df_pivot.end_long_2_dec_str, sep=',')\n",
    "#df_pivot.apply(lambda x: str(x.end_lat_2_dec) + ',' + str(x.end_long_2_dec), axis = 1)"
   ]
  },
  {
   "cell_type": "code",
   "execution_count": null,
   "metadata": {
    "collapsed": true
   },
   "outputs": [],
   "source": []
  },
  {
   "cell_type": "code",
   "execution_count": null,
   "metadata": {
    "collapsed": true
   },
   "outputs": [],
   "source": [
    "df_merged = df_pivot.merge(chains, how = 'left', on=['orig','dest'])"
   ]
  },
  {
   "cell_type": "code",
   "execution_count": null,
   "metadata": {
    "collapsed": true
   },
   "outputs": [],
   "source": [
    "#tmp = df_merged[df_merged.num_gas_stations > 1].iloc[:,4:35]\n",
    "#tmp.columns =['1','2','3','4','5','6','7','8','9','10','11','12',\n",
    "                                      # '13','14','15','16','17','18','19','20','21','22','23'\n",
    "                                       #,'24','25','26','27','28','orig','dest','stations'] "
   ]
  },
  {
   "cell_type": "code",
   "execution_count": null,
   "metadata": {
    "collapsed": true
   },
   "outputs": [],
   "source": [
    "df_merged.columns = df_merged.columns.astype(str)"
   ]
  },
  {
   "cell_type": "code",
   "execution_count": null,
   "metadata": {
    "collapsed": true
   },
   "outputs": [],
   "source": [
    "df_merged = df_merged[df_merged.num_gas_stations > 1]"
   ]
  },
  {
   "cell_type": "code",
   "execution_count": null,
   "metadata": {
    "collapsed": true
   },
   "outputs": [],
   "source": [
    "res_df = df_merged.groupby(by='stations').sum()"
   ]
  },
  {
   "cell_type": "code",
   "execution_count": null,
   "metadata": {
    "collapsed": true
   },
   "outputs": [],
   "source": [
    "res_df.reset_index(inplace=True)"
   ]
  },
  {
   "cell_type": "code",
   "execution_count": null,
   "metadata": {
    "collapsed": true
   },
   "outputs": [],
   "source": [
    "res_df['stations'] = res_df['stations'].apply(lambda x : x[:-1])"
   ]
  },
  {
   "cell_type": "code",
   "execution_count": null,
   "metadata": {
    "collapsed": true
   },
   "outputs": [],
   "source": [
    "chains_tmp = chains[chains.num_gas_stations > 1].stations.drop_duplicates().apply(lambda x : x[:-1])"
   ]
  },
  {
   "cell_type": "code",
   "execution_count": null,
   "metadata": {
    "collapsed": true
   },
   "outputs": [],
   "source": [
    "res_df.stations.to_csv('test2', index=False)"
   ]
  },
  {
   "cell_type": "code",
   "execution_count": null,
   "metadata": {
    "collapsed": true
   },
   "outputs": [],
   "source": [
    "chains_tmp.drop_duplicates().to_csv('test1', index=False)"
   ]
  },
  {
   "cell_type": "code",
   "execution_count": null,
   "metadata": {},
   "outputs": [],
   "source": [
    "df_pivot[(df_pivot.orig == \"31.88,34.82\") & (df_pivot.dest == \"31.88,34.68\")]"
   ]
  },
  {
   "cell_type": "code",
   "execution_count": null,
   "metadata": {
    "collapsed": true
   },
   "outputs": [],
   "source": [
    "res_df.to_csv('chains_res_6_perc.csv', index=False)"
   ]
  },
  {
   "cell_type": "code",
   "execution_count": null,
   "metadata": {},
   "outputs": [],
   "source": [
    "res_df.shape"
   ]
  },
  {
   "cell_type": "code",
   "execution_count": null,
   "metadata": {
    "collapsed": true
   },
   "outputs": [],
   "source": [
    "df_merged['num_gas_stations'] = df_merged['stations'].apply(lambda x : len(x.split(',')) - 1)"
   ]
  },
  {
   "cell_type": "code",
   "execution_count": null,
   "metadata": {
    "collapsed": true
   },
   "outputs": [],
   "source": [
    "df['id'] = df.apply(lambda x: str(x.start_lat_2_dec) + ',' + str(x.start_long_2_dec)+',' + str(x.end_lat_2_dec) + ',' + str(x.end_long_2_dec), axis=1)"
   ]
  },
  {
   "cell_type": "code",
   "execution_count": null,
   "metadata": {
    "collapsed": true
   },
   "outputs": [],
   "source": [
    "df['orig'] = df.apply(lambda x: str(x.start_lat_2_dec) + ',' + str(x.start_long_2_dec), axis=1)\n",
    "df['dest'] = df.apply(lambda x: str(x.end_lat_2_dec) + ',' + str(x.end_long_2_dec), axis = 1)"
   ]
  },
  {
   "cell_type": "code",
   "execution_count": null,
   "metadata": {
    "collapsed": true
   },
   "outputs": [],
   "source": [
    "df_chainse = df.merge(chains, how = 'left', \n",
    "                      left_on=['start_lat_2_dec','start_long_2_dec','end_lat_2_dec','end_long_2_dec'])"
   ]
  }
 ],
 "metadata": {
  "anaconda-cloud": {},
  "kernelspec": {
   "display_name": "Python 3",
   "language": "python",
   "name": "python3"
  },
  "language_info": {
   "codemirror_mode": {
    "name": "ipython",
    "version": 3
   },
   "file_extension": ".py",
   "mimetype": "text/x-python",
   "name": "python",
   "nbconvert_exporter": "python",
   "pygments_lexer": "ipython3",
   "version": "3.6.3"
  }
 },
 "nbformat": 4,
 "nbformat_minor": 1
}
